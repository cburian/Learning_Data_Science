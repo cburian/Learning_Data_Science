{
 "cells": [
  {
   "cell_type": "markdown",
   "metadata": {},
   "source": [
    "[rougier numpy tutorial on github](https://github.com/rougier/numpy-tutorial)"
   ]
  },
  {
   "cell_type": "code",
   "execution_count": 25,
   "metadata": {},
   "outputs": [],
   "source": [
    "glider=[[0,0,0,0,0,0],\n",
    "        [0,0,0,1,0,0],\n",
    "        [0,1,0,1,0,0],\n",
    "        [0,0,1,1,0,0],\n",
    "        [0,0,0,0,0,0],\n",
    "        [0,0,0,0,0,0]]"
   ]
  },
  {
   "cell_type": "code",
   "execution_count": 2,
   "metadata": {},
   "outputs": [],
   "source": [
    "# board - 0 border => avoiding tests for borders \n",
    "# when counting the nr of neighbours"
   ]
  },
  {
   "cell_type": "markdown",
   "metadata": {},
   "source": [
    "### 1. counting the nr or neighbours:"
   ]
  },
  {
   "cell_type": "code",
   "execution_count": 26,
   "metadata": {},
   "outputs": [],
   "source": [
    "def compute_neighbours(Z):\n",
    "    shape = len(Z), len(Z[0])\n",
    "    N = [[0] * shape[0] for _ in range(shape[1])]\n",
    "    for x in range(1, shape[0] - 1):\n",
    "        for y in range(1, shape[1] - 1):\n",
    "            N[x][y] = Z[x-1][y-1] + Z[x][y-1] + Z[x+1][y-1] + \\\n",
    "                      Z[x-1][y]               + Z[x+1][y] + \\\n",
    "                      Z[x-1][y+1] + Z[x][y+1] + Z[x+1][y+1]\n",
    "    return N"
   ]
  },
  {
   "cell_type": "markdown",
   "metadata": {},
   "source": [
    "### 2. iterate \n",
    "- count the nr of neighbours for each internal cell \n",
    "- update the whole board according to rules"
   ]
  },
  {
   "cell_type": "code",
   "execution_count": 27,
   "metadata": {},
   "outputs": [],
   "source": [
    "def iterate(Z):\n",
    "    shape = len(Z), len(Z[0])\n",
    "    N = compute_neighbours(Z)\n",
    "    for x in range(1, shape[0]-1):\n",
    "        for y in range(1, shape[1]-1):\n",
    "            if Z[x][y] == 1 and (N[x][y] < 2 or N[x][y] > 3):\n",
    "                Z[x][y] = 0\n",
    "            elif Z[x][y] == 0 and N[x][y] == 3:\n",
    "                Z[x][y] = 1\n",
    "    return Z"
   ]
  },
  {
   "cell_type": "code",
   "execution_count": 17,
   "metadata": {},
   "outputs": [],
   "source": [
    "def show(pattern):\n",
    "    for i in pattern:\n",
    "        print(i)"
   ]
  },
  {
   "cell_type": "code",
   "execution_count": 28,
   "metadata": {},
   "outputs": [
    {
     "name": "stdout",
     "output_type": "stream",
     "text": [
      "[0, 0, 0, 0, 0, 0]\n",
      "[0, 0, 0, 1, 0, 0]\n",
      "[0, 1, 0, 1, 0, 0]\n",
      "[0, 0, 1, 1, 0, 0]\n",
      "[0, 0, 0, 0, 0, 0]\n",
      "[0, 0, 0, 0, 0, 0]\n"
     ]
    }
   ],
   "source": [
    "show(glider)"
   ]
  },
  {
   "cell_type": "code",
   "execution_count": 29,
   "metadata": {},
   "outputs": [
    {
     "name": "stdout",
     "output_type": "stream",
     "text": [
      "\n",
      "[0, 0, 0, 0, 0, 0]\n",
      "[0, 0, 1, 0, 0, 0]\n",
      "[0, 0, 0, 1, 1, 0]\n",
      "[0, 0, 1, 1, 0, 0]\n",
      "[0, 0, 0, 0, 0, 0]\n",
      "[0, 0, 0, 0, 0, 0]\n",
      "\n",
      "[0, 0, 0, 0, 0, 0]\n",
      "[0, 0, 0, 1, 0, 0]\n",
      "[0, 0, 0, 0, 1, 0]\n",
      "[0, 0, 1, 1, 1, 0]\n",
      "[0, 0, 0, 0, 0, 0]\n",
      "[0, 0, 0, 0, 0, 0]\n",
      "\n",
      "[0, 0, 0, 0, 0, 0]\n",
      "[0, 0, 0, 0, 0, 0]\n",
      "[0, 0, 1, 0, 1, 0]\n",
      "[0, 0, 0, 1, 1, 0]\n",
      "[0, 0, 0, 1, 0, 0]\n",
      "[0, 0, 0, 0, 0, 0]\n",
      "\n",
      "[0, 0, 0, 0, 0, 0]\n",
      "[0, 0, 0, 0, 0, 0]\n",
      "[0, 0, 0, 0, 1, 0]\n",
      "[0, 0, 1, 0, 1, 0]\n",
      "[0, 0, 0, 1, 1, 0]\n",
      "[0, 0, 0, 0, 0, 0]\n"
     ]
    }
   ],
   "source": [
    "for _ in range(4):\n",
    "    iterate(glider)\n",
    "    print()\n",
    "    show(glider)"
   ]
  },
  {
   "cell_type": "code",
   "execution_count": null,
   "metadata": {},
   "outputs": [],
   "source": []
  }
 ],
 "metadata": {
  "kernelspec": {
   "display_name": "Python 3",
   "language": "python",
   "name": "python3"
  },
  "language_info": {
   "codemirror_mode": {
    "name": "ipython",
    "version": 3
   },
   "file_extension": ".py",
   "mimetype": "text/x-python",
   "name": "python",
   "nbconvert_exporter": "python",
   "pygments_lexer": "ipython3",
   "version": "3.8.3"
  }
 },
 "nbformat": 4,
 "nbformat_minor": 4
}
